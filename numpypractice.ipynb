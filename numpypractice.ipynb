{
 "cells": [
  {
   "cell_type": "code",
   "execution_count": 2,
   "id": "1374463c-a976-4554-9dd7-ba3bc3331e87",
   "metadata": {},
   "outputs": [],
   "source": [
    "import numpy as np\n"
   ]
  },
  {
   "cell_type": "code",
   "execution_count": 3,
   "id": "88b34bfb-de90-476e-851f-1009e8106fa2",
   "metadata": {},
   "outputs": [],
   "source": [
    "arr = np.array([1,2,3,4,5])"
   ]
  },
  {
   "cell_type": "code",
   "execution_count": 4,
   "id": "5e02efe4-b994-4f2b-b53c-495e066a320b",
   "metadata": {},
   "outputs": [
    {
     "data": {
      "text/plain": [
       "array([1, 2, 3, 4, 5])"
      ]
     },
     "execution_count": 4,
     "metadata": {},
     "output_type": "execute_result"
    }
   ],
   "source": [
    "arr"
   ]
  },
  {
   "cell_type": "code",
   "execution_count": 5,
   "id": "8cf13b54-b416-4691-8e7b-2b28f67680d4",
   "metadata": {},
   "outputs": [
    {
     "name": "stdout",
     "output_type": "stream",
     "text": [
      "int64\n"
     ]
    }
   ],
   "source": [
    "\n",
    "print(arr.dtype)"
   ]
  },
  {
   "cell_type": "code",
   "execution_count": 9,
   "id": "bb91cc2f-2362-4842-b68e-557f1d713f0a",
   "metadata": {},
   "outputs": [],
   "source": [
    "arr2=np.array([1,2,3,4,5],dtype=np.int16)\n",
    "            "
   ]
  },
  {
   "cell_type": "code",
   "execution_count": 10,
   "id": "a52e32d6-f5a0-4444-a010-39ab90a4fb5e",
   "metadata": {},
   "outputs": [
    {
     "data": {
      "text/plain": [
       "array([1, 2, 3, 4, 5], dtype=int16)"
      ]
     },
     "execution_count": 10,
     "metadata": {},
     "output_type": "execute_result"
    }
   ],
   "source": [
    "arr2"
   ]
  },
  {
   "cell_type": "code",
   "execution_count": 12,
   "id": "2c61a79b-3936-4e0a-b49f-6bcb1ecb70bb",
   "metadata": {},
   "outputs": [],
   "source": [
    "ar2=np.array([[1,2,3],[4,5,6],[7,8,9]])\n",
    "\n"
   ]
  },
  {
   "cell_type": "code",
   "execution_count": 13,
   "id": "dd294922-8a3f-4ac3-adb5-9cd018d57335",
   "metadata": {},
   "outputs": [
    {
     "data": {
      "text/plain": [
       "array([[1, 2, 3],\n",
       "       [4, 5, 6],\n",
       "       [7, 8, 9]])"
      ]
     },
     "execution_count": 13,
     "metadata": {},
     "output_type": "execute_result"
    }
   ],
   "source": [
    "ar2"
   ]
  },
  {
   "cell_type": "code",
   "execution_count": 28,
   "id": "281706eb-6a0c-4b20-a87b-d62301bce854",
   "metadata": {},
   "outputs": [
    {
     "data": {
      "text/plain": [
       "array([5, 5])"
      ]
     },
     "execution_count": 28,
     "metadata": {},
     "output_type": "execute_result"
    }
   ],
   "source": [
    "ar1 = np.array([5,5])\n",
    "ar1"
   ]
  },
  {
   "cell_type": "code",
   "execution_count": 17,
   "id": "cc5fc5af-4460-40cf-bfd0-217881a8ad97",
   "metadata": {},
   "outputs": [
    {
     "data": {
      "text/plain": [
       "array([[0., 0., 0., 0., 0.],\n",
       "       [0., 0., 0., 0., 0.],\n",
       "       [0., 0., 0., 0., 0.],\n",
       "       [0., 0., 0., 0., 0.],\n",
       "       [0., 0., 0., 0., 0.]])"
      ]
     },
     "execution_count": 17,
     "metadata": {},
     "output_type": "execute_result"
    }
   ],
   "source": [
    "z1"
   ]
  },
  {
   "cell_type": "code",
   "execution_count": 18,
   "id": "1bc0ac12-af9d-4b17-a40e-5129dedfb902",
   "metadata": {},
   "outputs": [],
   "source": [
    "o1=np.ones([5,5])"
   ]
  },
  {
   "cell_type": "code",
   "execution_count": 19,
   "id": "d7206d58-9784-44ad-8693-7e6494b89b15",
   "metadata": {},
   "outputs": [
    {
     "data": {
      "text/plain": [
       "array([[1., 1., 1., 1., 1.],\n",
       "       [1., 1., 1., 1., 1.],\n",
       "       [1., 1., 1., 1., 1.],\n",
       "       [1., 1., 1., 1., 1.],\n",
       "       [1., 1., 1., 1., 1.]])"
      ]
     },
     "execution_count": 19,
     "metadata": {},
     "output_type": "execute_result"
    }
   ],
   "source": [
    "o1"
   ]
  },
  {
   "cell_type": "code",
   "execution_count": 20,
   "id": "3706d8cb-4e60-4ff1-957e-084d915abf09",
   "metadata": {},
   "outputs": [],
   "source": [
    "I=np.eye(5)"
   ]
  },
  {
   "cell_type": "code",
   "execution_count": 21,
   "id": "c61a4321-a3e8-4179-9dbe-5225dfc17b75",
   "metadata": {},
   "outputs": [
    {
     "data": {
      "text/plain": [
       "array([[1., 0., 0., 0., 0.],\n",
       "       [0., 1., 0., 0., 0.],\n",
       "       [0., 0., 1., 0., 0.],\n",
       "       [0., 0., 0., 1., 0.],\n",
       "       [0., 0., 0., 0., 1.]])"
      ]
     },
     "execution_count": 21,
     "metadata": {},
     "output_type": "execute_result"
    }
   ],
   "source": [
    "I"
   ]
  },
  {
   "cell_type": "code",
   "execution_count": 22,
   "id": "5283911e-7f04-4cc7-892f-5519ded667ac",
   "metadata": {},
   "outputs": [
    {
     "data": {
      "text/plain": [
       "array([[0.73048355, 0.38485191, 0.56929349, 0.49182308, 0.93127495],\n",
       "       [0.87748512, 0.01473083, 0.82951051, 0.57282958, 0.03167722],\n",
       "       [0.10030159, 0.59338942, 0.80526018, 0.35594161, 0.80631292],\n",
       "       [0.66355189, 0.0618508 , 0.10924086, 0.50463172, 0.9842867 ]])"
      ]
     },
     "execution_count": 22,
     "metadata": {},
     "output_type": "execute_result"
    }
   ],
   "source": [
    "r1=np.random.rand(4,5)\n",
    "r1"
   ]
  },
  {
   "cell_type": "code",
   "execution_count": 24,
   "id": "269fef70-6cd9-4bc1-8bb1-f199876c4deb",
   "metadata": {},
   "outputs": [
    {
     "data": {
      "text/plain": [
       "array([[1, 2, 3],\n",
       "       [4, 5, 6],\n",
       "       [7, 8, 9]])"
      ]
     },
     "execution_count": 24,
     "metadata": {},
     "output_type": "execute_result"
    }
   ],
   "source": [
    "ar2"
   ]
  },
  {
   "cell_type": "raw",
   "id": "e87b7a35-12b1-4384-8d50-0ef86f652c74",
   "metadata": {},
   "source": [
    "arr"
   ]
  },
  {
   "cell_type": "code",
   "execution_count": 30,
   "id": "703ad919-b3e6-4b78-ac1d-d9ce804d2524",
   "metadata": {},
   "outputs": [
    {
     "name": "stdout",
     "output_type": "stream",
     "text": [
      "9\n"
     ]
    }
   ],
   "source": [
    "print(ar2.size)"
   ]
  },
  {
   "cell_type": "code",
   "execution_count": 32,
   "id": "190b829b-f793-4fa8-9ba5-d4b016ee1fb9",
   "metadata": {},
   "outputs": [
    {
     "name": "stdout",
     "output_type": "stream",
     "text": [
      "(3, 3)\n"
     ]
    }
   ],
   "source": [
    "print(ar2.shape)"
   ]
  },
  {
   "cell_type": "markdown",
   "id": "1ce41aa3-2fee-490d-8c3d-e590c5a0110e",
   "metadata": {},
   "source": [
    "# Operations in Array\n",
    "**COPY**\n",
    "\n",
    "**SORT**\n",
    "\n",
    "**RESHAPE**"
   ]
  },
  {
   "cell_type": "code",
   "execution_count": 33,
   "id": "c3baeeab-643f-4126-b401-5f60338fc176",
   "metadata": {},
   "outputs": [
    {
     "data": {
      "text/plain": [
       "array([[1, 2, 3],\n",
       "       [4, 5, 6],\n",
       "       [7, 8, 9]])"
      ]
     },
     "execution_count": 33,
     "metadata": {},
     "output_type": "execute_result"
    }
   ],
   "source": [
    "ar3=np.copy(ar2)\n",
    "ar3"
   ]
  },
  {
   "cell_type": "code",
   "execution_count": 34,
   "id": "ad3a50a2-5025-49df-a676-6e4b7f4a4762",
   "metadata": {},
   "outputs": [
    {
     "data": {
      "text/plain": [
       "array([[ 1,  2,  3],\n",
       "       [ 4,  5,  6],\n",
       "       [ 7,  8, 10]])"
      ]
     },
     "execution_count": 34,
     "metadata": {},
     "output_type": "execute_result"
    }
   ],
   "source": [
    "ar3[2,2]=10\n",
    "ar3"
   ]
  },
  {
   "cell_type": "code",
   "execution_count": 35,
   "id": "5defa78b-f0de-4363-baa1-f19808779de1",
   "metadata": {},
   "outputs": [],
   "source": [
    "ar3[1,2]=12\n",
    "ar3[0,1]=15"
   ]
  },
  {
   "cell_type": "code",
   "execution_count": 36,
   "id": "a4367707-3be9-4a1b-9f6b-6d619e7f2478",
   "metadata": {},
   "outputs": [
    {
     "data": {
      "text/plain": [
       "array([[ 1, 15,  3],\n",
       "       [ 4,  5, 12],\n",
       "       [ 7,  8, 10]])"
      ]
     },
     "execution_count": 36,
     "metadata": {},
     "output_type": "execute_result"
    }
   ],
   "source": [
    "ar3"
   ]
  },
  {
   "cell_type": "code",
   "execution_count": 38,
   "id": "384547b8-faff-45c8-97a6-af78a0ae363a",
   "metadata": {},
   "outputs": [
    {
     "data": {
      "text/plain": [
       "array([[ 1,  3, 15],\n",
       "       [ 4,  5, 12],\n",
       "       [ 7,  8, 10]])"
      ]
     },
     "execution_count": 38,
     "metadata": {},
     "output_type": "execute_result"
    }
   ],
   "source": [
    "ar3=np.sort(ar3)\n",
    "ar3"
   ]
  },
  {
   "cell_type": "code",
   "execution_count": 39,
   "id": "b78f4a57-1ce4-4e50-8423-6cdb385ece18",
   "metadata": {},
   "outputs": [
    {
     "data": {
      "text/plain": [
       "array([[ 1,  3, 10],\n",
       "       [ 4,  5, 12],\n",
       "       [ 7,  8, 15]])"
      ]
     },
     "execution_count": 39,
     "metadata": {},
     "output_type": "execute_result"
    }
   ],
   "source": [
    "ar3=np.sort(ar3,axis=0)\n",
    "ar3"
   ]
  },
  {
   "cell_type": "code",
   "execution_count": 40,
   "id": "21d18075-8064-4413-8f09-2753db7e9e4e",
   "metadata": {},
   "outputs": [
    {
     "data": {
      "text/plain": [
       "np.int64(65)"
      ]
     },
     "execution_count": 40,
     "metadata": {},
     "output_type": "execute_result"
    }
   ],
   "source": [
    "ar3.sum()"
   ]
  },
  {
   "cell_type": "code",
   "execution_count": 41,
   "id": "fb2b6639-5699-46de-9353-f7868895340d",
   "metadata": {},
   "outputs": [
    {
     "data": {
      "text/plain": [
       "array([12, 16, 37])"
      ]
     },
     "execution_count": 41,
     "metadata": {},
     "output_type": "execute_result"
    }
   ],
   "source": [
    "ar3.sum(axis=0)"
   ]
  },
  {
   "cell_type": "code",
   "execution_count": 42,
   "id": "e4f35da6-b455-4783-a258-9fecd42aaa6b",
   "metadata": {},
   "outputs": [
    {
     "data": {
      "text/plain": [
       "array([14, 21, 30])"
      ]
     },
     "execution_count": 42,
     "metadata": {},
     "output_type": "execute_result"
    }
   ],
   "source": [
    "ar3.sum(axis=1)"
   ]
  },
  {
   "cell_type": "code",
   "execution_count": 43,
   "id": "8ab81be4-c0d8-47c6-99e9-abdcf922be9d",
   "metadata": {},
   "outputs": [
    {
     "data": {
      "text/plain": [
       "array([0.98705175, 0.74422132, 0.18351423, 0.57272625, 0.96688545,\n",
       "       0.48129732, 0.38639498, 0.73232965, 0.60912908, 0.6022489 ,\n",
       "       0.84213446, 0.58390546, 0.41510508, 0.55678095, 0.58955392,\n",
       "       0.96937221, 0.90621632, 0.89905986, 0.93664397, 0.47498988,\n",
       "       0.04128258, 0.72282523, 0.19993304, 0.3083793 , 0.38296473,\n",
       "       0.87088531, 0.62877058, 0.45281169, 0.61773935, 0.81031362,\n",
       "       0.25492709, 0.50411477, 0.63299886, 0.53451714, 0.76921127,\n",
       "       0.74387326, 0.61976393, 0.79898007, 0.60865704, 0.29779564,\n",
       "       0.60907677, 0.13902574, 0.42704775, 0.03010767, 0.89720725,\n",
       "       0.09023026, 0.48261823, 0.5995653 , 0.52835164, 0.81413172,\n",
       "       0.66413729, 0.37592593, 0.0716139 , 0.58986669, 0.19266773,\n",
       "       0.3317558 , 0.65464267, 0.64804665, 0.73198907, 0.37267798,\n",
       "       0.47620642, 0.12936016, 0.7207716 , 0.39423479, 0.41694801,\n",
       "       0.78286885, 0.61986636, 0.03892578, 0.27271521, 0.46977431,\n",
       "       0.06265665, 0.23558747, 0.10741106, 0.17072951, 0.21303935,\n",
       "       0.54832723, 0.17733489, 0.50028017, 0.71672889, 0.61413407,\n",
       "       0.20420566, 0.6528768 , 0.61736656, 0.85697271, 0.23716952,\n",
       "       0.94181763, 0.45310223, 0.57339154, 0.83366959, 0.58202848,\n",
       "       0.77158843, 0.62272322, 0.5491066 , 0.45383367, 0.27556765,\n",
       "       0.1866222 , 0.46867222, 0.80467356, 0.33641458])"
      ]
     },
     "execution_count": 43,
     "metadata": {},
     "output_type": "execute_result"
    }
   ],
   "source": [
    "ar4=np.random.rand(99)\n",
    "ar4"
   ]
  },
  {
   "cell_type": "code",
   "execution_count": 44,
   "id": "1e308126-8f31-493b-9ff3-bd7621543a06",
   "metadata": {},
   "outputs": [
    {
     "data": {
      "text/plain": [
       "99"
      ]
     },
     "execution_count": 44,
     "metadata": {},
     "output_type": "execute_result"
    }
   ],
   "source": [
    "ar4.size"
   ]
  },
  {
   "cell_type": "code",
   "execution_count": 45,
   "id": "89e07d20-ea9b-464c-9475-1aa51fe4604d",
   "metadata": {},
   "outputs": [
    {
     "data": {
      "text/plain": [
       "array([[0.98705175, 0.74422132, 0.18351423, 0.57272625, 0.96688545,\n",
       "        0.48129732, 0.38639498, 0.73232965, 0.60912908],\n",
       "       [0.6022489 , 0.84213446, 0.58390546, 0.41510508, 0.55678095,\n",
       "        0.58955392, 0.96937221, 0.90621632, 0.89905986],\n",
       "       [0.93664397, 0.47498988, 0.04128258, 0.72282523, 0.19993304,\n",
       "        0.3083793 , 0.38296473, 0.87088531, 0.62877058],\n",
       "       [0.45281169, 0.61773935, 0.81031362, 0.25492709, 0.50411477,\n",
       "        0.63299886, 0.53451714, 0.76921127, 0.74387326],\n",
       "       [0.61976393, 0.79898007, 0.60865704, 0.29779564, 0.60907677,\n",
       "        0.13902574, 0.42704775, 0.03010767, 0.89720725],\n",
       "       [0.09023026, 0.48261823, 0.5995653 , 0.52835164, 0.81413172,\n",
       "        0.66413729, 0.37592593, 0.0716139 , 0.58986669],\n",
       "       [0.19266773, 0.3317558 , 0.65464267, 0.64804665, 0.73198907,\n",
       "        0.37267798, 0.47620642, 0.12936016, 0.7207716 ],\n",
       "       [0.39423479, 0.41694801, 0.78286885, 0.61986636, 0.03892578,\n",
       "        0.27271521, 0.46977431, 0.06265665, 0.23558747],\n",
       "       [0.10741106, 0.17072951, 0.21303935, 0.54832723, 0.17733489,\n",
       "        0.50028017, 0.71672889, 0.61413407, 0.20420566],\n",
       "       [0.6528768 , 0.61736656, 0.85697271, 0.23716952, 0.94181763,\n",
       "        0.45310223, 0.57339154, 0.83366959, 0.58202848],\n",
       "       [0.77158843, 0.62272322, 0.5491066 , 0.45383367, 0.27556765,\n",
       "        0.1866222 , 0.46867222, 0.80467356, 0.33641458]])"
      ]
     },
     "execution_count": 45,
     "metadata": {},
     "output_type": "execute_result"
    }
   ],
   "source": [
    "ar4.reshape(11,9)"
   ]
  },
  {
   "cell_type": "code",
   "execution_count": 46,
   "id": "8fc8f619-dfcf-41ce-b738-0d61060f186d",
   "metadata": {},
   "outputs": [
    {
     "data": {
      "text/plain": [
       "99"
      ]
     },
     "execution_count": 46,
     "metadata": {},
     "output_type": "execute_result"
    }
   ],
   "source": [
    "ar4.size"
   ]
  },
  {
   "cell_type": "code",
   "execution_count": 47,
   "id": "b76393c8-2ae9-403e-b73a-b2a63ad50bff",
   "metadata": {},
   "outputs": [
    {
     "data": {
      "text/plain": [
       "(99,)"
      ]
     },
     "execution_count": 47,
     "metadata": {},
     "output_type": "execute_result"
    }
   ],
   "source": [
    "ar4.shape"
   ]
  },
  {
   "cell_type": "code",
   "execution_count": 49,
   "id": "eda8ee40-f92f-42c8-8116-c3f4e6a6787c",
   "metadata": {},
   "outputs": [
    {
     "data": {
      "text/plain": [
       "array([5, 5])"
      ]
     },
     "execution_count": 49,
     "metadata": {},
     "output_type": "execute_result"
    }
   ],
   "source": [
    "arr"
   ]
  },
  {
   "cell_type": "code",
   "execution_count": 51,
   "id": "5cec49e8-67c2-4fa3-a761-0b2dc970d836",
   "metadata": {},
   "outputs": [],
   "source": [
    "ar5=np.concatenate((ar2,ar3),axis=1)"
   ]
  },
  {
   "cell_type": "code",
   "execution_count": 52,
   "id": "64cbe97e-ebe8-4fb1-b0b8-251141c4f23c",
   "metadata": {},
   "outputs": [
    {
     "data": {
      "text/plain": [
       "array([[ 1,  2,  3,  1,  3, 10],\n",
       "       [ 4,  5,  6,  4,  5, 12],\n",
       "       [ 7,  8,  9,  7,  8, 15]])"
      ]
     },
     "execution_count": 52,
     "metadata": {},
     "output_type": "execute_result"
    }
   ],
   "source": [
    "ar5"
   ]
  },
  {
   "cell_type": "code",
   "execution_count": 53,
   "id": "252d285a-98b2-48a5-ad41-0c1af1cb0ef4",
   "metadata": {},
   "outputs": [
    {
     "data": {
      "text/plain": [
       "[array([[1, 2],\n",
       "        [4, 5],\n",
       "        [7, 8]]),\n",
       " array([[3, 1],\n",
       "        [6, 4],\n",
       "        [9, 7]]),\n",
       " array([[ 3, 10],\n",
       "        [ 5, 12],\n",
       "        [ 8, 15]])]"
      ]
     },
     "execution_count": 53,
     "metadata": {},
     "output_type": "execute_result"
    }
   ],
   "source": [
    "ar6=np.split(ar5,3,axis=1)\n",
    "ar6"
   ]
  },
  {
   "cell_type": "code",
   "execution_count": 54,
   "id": "130a8f11-16b0-4155-b86d-a3bba2cfac2c",
   "metadata": {},
   "outputs": [
    {
     "data": {
      "text/plain": [
       "array([[ 2,  3,  4,  2,  4, 11],\n",
       "       [ 5,  6,  7,  5,  6, 13],\n",
       "       [ 8,  9, 10,  8,  9, 16]])"
      ]
     },
     "execution_count": 54,
     "metadata": {},
     "output_type": "execute_result"
    }
   ],
   "source": [
    "np.add(ar5,1)"
   ]
  },
  {
   "cell_type": "code",
   "execution_count": 55,
   "id": "8eb07013-caa1-4582-9739-e2a2cb82a2f3",
   "metadata": {},
   "outputs": [
    {
     "data": {
      "text/plain": [
       "array([[ 4,  3],\n",
       "       [10,  9],\n",
       "       [16, 15]])"
      ]
     },
     "execution_count": 55,
     "metadata": {},
     "output_type": "execute_result"
    }
   ],
   "source": [
    "ar7=np.add(ar6[0],ar6[1])\n",
    "ar7"
   ]
  },
  {
   "cell_type": "code",
   "execution_count": 56,
   "id": "453500ee-9762-4dca-9e2e-7387cda96d38",
   "metadata": {},
   "outputs": [
    {
     "data": {
      "text/plain": [
       "array([[ 3,  2],\n",
       "       [24, 20],\n",
       "       [63, 56]])"
      ]
     },
     "execution_count": 56,
     "metadata": {},
     "output_type": "execute_result"
    }
   ],
   "source": [
    "ar8=np.multiply(ar6[0],ar6[1])\n",
    "ar8"
   ]
  },
  {
   "cell_type": "code",
   "execution_count": null,
   "id": "c1aafdf1-1b3c-4e4e-b29b-c5be39ba8e95",
   "metadata": {},
   "outputs": [],
   "source": []
  }
 ],
 "metadata": {
  "kernelspec": {
   "display_name": "Python 3 (ipykernel)",
   "language": "python",
   "name": "python3"
  },
  "language_info": {
   "codemirror_mode": {
    "name": "ipython",
    "version": 3
   },
   "file_extension": ".py",
   "mimetype": "text/x-python",
   "name": "python",
   "nbconvert_exporter": "python",
   "pygments_lexer": "ipython3",
   "version": "3.12.4"
  }
 },
 "nbformat": 4,
 "nbformat_minor": 5
}
