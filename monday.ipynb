{
 "cells": [
  {
   "cell_type": "code",
   "execution_count": null,
   "id": "c349a899-38ad-4bab-8684-bf142501bd3e",
   "metadata": {},
   "outputs": [],
   "source": [
    "import pandas as py\n",
    "class EQIP:\n",
    "    def _init_(self):\n",
    "        self.Eid=0\n",
    "        self.Ename=' '\n",
    "        self.Ebrand=' '\n",
    "        self.ETqty=0\n",
    "        self.EAqty=0\n",
    "\n",
    "    def Add_item(self):\n",
    "        self.Eid=int(input('Enter the Equipment id: '))\n",
    "        self.Ename=input('Enter the Equipment Name: ')\n",
    "        self.Ebrand=input('Enter the Equipment Brand: ')\n",
    "        self.ETqty=int(input('Enter the Equipment Total Quantity: '))\n",
    "        self.EAqty=int(input('Enter the Equipment Available Quantity: '))\n",
    "        Stock[self.Eid]=list([self.Ename, self.Ebrand, self.ETqty, self.EAqty])\n",
    "\n",
    "    def Remove_item(self):\n",
    "        self.Eid=int(input('Enter the Equipment id: '))\n",
    "        print(Stock(self.Eid))\n",
    "        Stock.pop(self.Eid)\n",
    "\n",
    "    def Update_Item(self):\n",
    "        self.Eid=int(input('Enter the Equipment Id to Update: '))\n",
    "        print(\"Enter input vaalue in negative if want to devrease the item\")\n",
    "        self.Etqty=int(input('Enter the Equipment Quantity to Update: '))\n",
    "        Stock[self.Eid][2]=Stock[self.Eid][2]+self.ETqty\n",
    "\n",
    "    def print_stock(self):\n",
    "        df=pd.Dataframe(Stock)\n",
    "        print(df)\n",
    "\n",
    "if _name==\"main_\":\n",
    "    while(true):\n",
    "        print(\"_Menu\")\n",
    "        print"
   ]
  },
  {
   "cell_type": "code",
   "execution_count": null,
   "id": "ed9f1cdb-2a06-456c-83c8-fabe0be66439",
   "metadata": {},
   "outputs": [],
   "source": [
    "class EQIP\n",
    " def _init_(self):\n",
    "     self.Eid=\n",
    "     self.Ename\n",
    "     self.Ebrand\n",
    "     self.ETqty\n",
    "     self.EAqty\n",
    "\n",
    "def Add_item(self):\n",
    "    self.Eid=int(input('Enter the Equipment Id : '))\n",
    "    self.Ename=(input('Enter the Equipment Name : '))\n",
    "    self.Ebrand=(input('Enter the Equipment Brand : '))\n",
    "    self.ETqty=int(input('Enter the Equipment Total Quantity : '))\n",
    "    self.EAqty=int(input('Enter the Equipment Available Quantity : '))\n",
    "    stock [Eid]=list([self.Ename,self.Ebrand,self.ETqty,self.EAqty])\n",
    "\n",
    "     def remove_item(self):\n",
    "         self.Eid=int(input('Enter the Equipment Id to Remove: '))\n",
    "         print(Stock [self.Eid])\n",
    "         Stock.pop(self.Eid)\n",
    "\n",
    "def Update_Item(self):\n",
    "    self.Eid=int(input('Enter the Equipment Id to Update: '))\n",
    "    print(\"Enter input value in Negative if want do decrease the item\")\n",
    "    self.ETqty=int(input('Enter the Equipment Total Quantity to Update: '))\n",
    "    Qty=Stock[self.Eid][2]=Stock[self.Eid][2]+self.ETqty\n",
    "\n",
    "def print_stock(self):\n",
    "    df=pd.DataFrame(Stock)\n",
    "    print(df)\n",
    "\n",
    "if _name==\"main_\":\n",
    "    while(true):\n",
    "    print(\"_STOCK_\")\n",
    "    print(\"1. Add item \")\n",
    "    print(\"2. Remove item \")\n",
    "    print(\"3. Update item \")\n",
    "    print(\"4. Print Stock \")\n",
    "    print(\"5. Exit \")\n",
    "    choice=int(input(\"Enter your chouce\"))\n",
    "    match(choice):\n",
    "        case 1: temp.Add_Item()\n",
    "        case 2: temp.Remove_Item()\n",
    "        case 3: temp.Update_Item()\n",
    "        case 4: temp.Print_Stock()\n",
    "        case 5: print(\"All data Saved. Exiting..... Thank You\")\n",
    "        case_: print(\"Wrong Choice\")"
   ]
  },
  {
   "cell_type": "code",
   "execution_count": null,
   "id": "4ddeb9f2-01bf-443c-9da8-f9f7930d0124",
   "metadata": {},
   "outputs": [],
   "source": [
    "import numpy as np\n",
    "import pandas as pd\n",
    "from matplotlib import pyplot as plt"
   ]
  },
  {
   "cell_type": "code",
   "execution_count": null,
   "id": "489af003-c168-4492-ad84-f60418740a33",
   "metadata": {},
   "outputs": [],
   "source": [
    "sm=pd.read_csv('student_marks.csv')\n",
    "sm"
   ]
  },
  {
   "cell_type": "code",
   "execution_count": null,
   "id": "63a8b84d-9b3e-4379-9924-d66d5151b4ba",
   "metadata": {},
   "outputs": [],
   "source": [
    "sm['Total']=sm[['English','Hindi','Maths','Science','SST']].sum(axis=1)"
   ]
  },
  {
   "cell_type": "code",
   "execution_count": null,
   "id": "96dd3dda-61f4-43aa-b80e-c0d2fc17c9fe",
   "metadata": {},
   "outputs": [],
   "source": [
    "sm"
   ]
  },
  {
   "cell_type": "code",
   "execution_count": null,
   "id": "b9c28e70-e9ec-477f-96ae-2495822fec9f",
   "metadata": {},
   "outputs": [],
   "source": [
    "sm['Percentage']=sm['Total']/5"
   ]
  },
  {
   "cell_type": "code",
   "execution_count": null,
   "id": "937281a3-2d2f-4f66-ad06-90599a90857b",
   "metadata": {},
   "outputs": [],
   "source": [
    "sm"
   ]
  },
  {
   "cell_type": "code",
   "execution_count": null,
   "id": "61b13314-feea-44d2-9f61-388ba171cff2",
   "metadata": {},
   "outputs": [],
   "source": [
    "Grading\n",
    "A=100-80\n",
    "B=80-60\n",
    "C=60-50\n",
    "D=50-40\n",
    "E=40-30\n",
    "F=0-30"
   ]
  },
  {
   "cell_type": "code",
   "execution_count": null,
   "id": "1034566c-852b-4b04-b26c-1460d64e6693",
   "metadata": {},
   "outputs": [],
   "source": [
    "def clac_grade(p):\n",
    "    if p<=100 and p>=80:\n",
    "        return 'A'\n",
    "    elif p<80 and p>=60:\n",
    "        return 'B'\n",
    "    elif p<60 and p>=50:\n",
    "        return 'C'\n",
    "    elif p<50 and p>=40:\n",
    "        return 'D'\n",
    "    elif p<40 and p>=30:\n",
    "        return 'E'\n",
    "    elif p<0 and p>=30:\n",
    "        return 'F'\n",
    "    else:\n",
    "        return 'X'\n",
    "sm['Grade']=sm['Percentage'].apply(clac_grade)\n",
    "sm"
   ]
  },
  {
   "cell_type": "code",
   "execution_count": null,
   "id": "7e5e218d-c8af-4d19-8a67-3dbda5f1ba1b",
   "metadata": {},
   "outputs": [],
   "source": [
    "for sub in ['English','Hindi','Maths','Science','SST']:\n",
    "    plt.figure(figsize=(10,6))\n",
    "    plt.plot(sm['Name'],sm[sub],marker='o',label=sub)\n",
    "    plt.title(\"Marks in diffrent Subjects\")\n",
    "    plt.xlabel(\"Name\")\n",
    "    plt.ylabel(\"Marks\")\n",
    "    plt.legend()\n",
    "    plt.grid(True)\n",
    "    plt.show()"
   ]
  },
  {
   "cell_type": "code",
   "execution_count": null,
   "id": "d41a1128-8e6f-4f76-8954-50c759219685",
   "metadata": {},
   "outputs": [],
   "source": []
  },
  {
   "cell_type": "code",
   "execution_count": null,
   "id": "956787a5-758a-43b4-8a39-c836145676e5",
   "metadata": {},
   "outputs": [],
   "source": []
  }
 ],
 "metadata": {
  "kernelspec": {
   "display_name": "Python 3 (ipykernel)",
   "language": "python",
   "name": "python3"
  },
  "language_info": {
   "codemirror_mode": {
    "name": "ipython",
    "version": 3
   },
   "file_extension": ".py",
   "mimetype": "text/x-python",
   "name": "python",
   "nbconvert_exporter": "python",
   "pygments_lexer": "ipython3",
   "version": "3.12.4"
  }
 },
 "nbformat": 4,
 "nbformat_minor": 5
}
